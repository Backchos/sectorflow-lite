{
  "cells": [
    {
      "cell_type": "markdown",
      "metadata": {},
      "source": [
        "# 🚀 SectorFlow Lite - 테스트 분석\n",
        "\n",
        "이 노트북은 SectorFlow Lite의 테스트 결과를 분석하고 시각화합니다.\n",
        "\n",
        "## 📋 목차\n",
        "1. [테스트 실행](#테스트-실행)\n",
        "2. [결과 분석](#결과-분석)\n",
        "3. [시각화](#시각화)\n",
        "4. [요약](#요약)\n"
      ]
    }
  ],
  "metadata": {
    "language_info": {
      "name": "python"
    }
  },
  "nbformat": 4,
  "nbformat_minor": 2
}
